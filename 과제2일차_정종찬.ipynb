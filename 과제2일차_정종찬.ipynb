{
 "cells": [
  {
   "cell_type": "markdown",
   "metadata": {},
   "source": [
    "# 전공자반 정종찬"
   ]
  },
  {
   "cell_type": "markdown",
   "metadata": {},
   "source": [
    "문제 1"
   ]
  },
  {
   "cell_type": "code",
   "execution_count": 6,
   "metadata": {
    "scrolled": true
   },
   "outputs": [
    {
     "name": "stdout",
     "output_type": "stream",
     "text": [
      "1\n",
      "2\n",
      "3\n",
      "e\n",
      "숫자를 입력하세요\n",
      "e\n",
      "숫자를 입력하세요\n",
      "r\n",
      "숫자를 입력하세요\n",
      "0\n",
      "역정렬\n",
      "3\n",
      "2\n",
      "1\n"
     ]
    }
   ],
   "source": [
    "l=[]\n",
    "while (True):\n",
    "    num=input()\n",
    "    try:\n",
    "        if int(num) == 0:\n",
    "            l.sort()\n",
    "            l.reverse()\n",
    "            print('역정렬')\n",
    "            for i in range(len(l)):\n",
    "                print(l[i])\n",
    "            break\n",
    "        l.append(int(num))\n",
    "    except:\n",
    "        print('숫자를 입력하세요')"
   ]
  },
  {
   "cell_type": "markdown",
   "metadata": {},
   "source": [
    "문제 2"
   ]
  },
  {
   "cell_type": "code",
   "execution_count": 8,
   "metadata": {},
   "outputs": [
    {
     "name": "stdout",
     "output_type": "stream",
     "text": [
      "first\n",
      "second\n",
      "third\n",
      "first\n",
      "third\n",
      "\n",
      "중복 제거\n",
      "first\n",
      "second\n",
      "third\n"
     ]
    }
   ],
   "source": [
    "l = []\n",
    "while(True):\n",
    "    word = input()\n",
    "    if(word==''):\n",
    "        print('중복 제거')\n",
    "        for i in range(len(l)):\n",
    "            print(l[i])\n",
    "        break\n",
    "    else:\n",
    "        if(l.count(word)==0):\n",
    "            l.append(word)\n"
   ]
  },
  {
   "cell_type": "markdown",
   "metadata": {},
   "source": [
    "문제 3"
   ]
  },
  {
   "cell_type": "code",
   "execution_count": 7,
   "metadata": {},
   "outputs": [
    {
     "name": "stdout",
     "output_type": "stream",
     "text": [
      "1\n",
      "3\n",
      "0\n",
      "-1\n",
      "2\n",
      "3\n",
      "-6\n",
      "0\n",
      "2\n",
      "\n",
      "-6\n",
      "-1\n",
      "1\n",
      "0\n",
      "0\n",
      "3\n",
      "2\n",
      "3\n",
      "2\n"
     ]
    }
   ],
   "source": [
    "l=[]\n",
    "while (True):\n",
    "    num=input()\n",
    "    try:\n",
    "        if num == '':\n",
    "            break\n",
    "        l.append(int(num))\n",
    "    except:\n",
    "        print('숫자를 입력하세요')\n",
    "\n",
    "answer =[]\n",
    "for i in range(len(l)): \n",
    "    if l[i] < 0:\n",
    "        answer.insert(0,l[i])\n",
    "    elif l[i] > 0:\n",
    "        answer.insert(len(answer),l[i])\n",
    "    else:\n",
    "        answer.insert(int(len(answer)/2),l[i])\n",
    "        \n",
    "for i in range(len(answer)):\n",
    "    print(answer[i])\n"
   ]
  },
  {
   "cell_type": "markdown",
   "metadata": {},
   "source": [
    "문제 4"
   ]
  },
  {
   "cell_type": "code",
   "execution_count": 1,
   "metadata": {},
   "outputs": [],
   "source": [
    "def perfect_Num(num):\n",
    "    s=0;\n",
    "    for i in range(1,num-1):\n",
    "        if num%i==0:\n",
    "            s +=i\n",
    "    if num==s:\n",
    "        return True\n",
    "    else:\n",
    "        return False"
   ]
  },
  {
   "cell_type": "code",
   "execution_count": 2,
   "metadata": {},
   "outputs": [
    {
     "name": "stdout",
     "output_type": "stream",
     "text": [
      "0\n",
      "6\n",
      "28\n",
      "496\n",
      "8128\n"
     ]
    }
   ],
   "source": [
    "for i in range(0,10000):\n",
    "    if perfect_Num(i):\n",
    "        print(i)"
   ]
  },
  {
   "cell_type": "markdown",
   "metadata": {},
   "source": [
    "문제 5"
   ]
  },
  {
   "cell_type": "code",
   "execution_count": 6,
   "metadata": {},
   "outputs": [],
   "source": [
    "def Flist(Slist):\n",
    "    word = ''\n",
    "    for i in range(len(Slist)):\n",
    "        word += Slist[i]\n",
    "        if i < len(Slist)-2:\n",
    "            word += ', '\n",
    "        elif i== len(Slist)-2:\n",
    "            word += ' and '\n",
    "    return word \n",
    "        "
   ]
  },
  {
   "cell_type": "code",
   "execution_count": 7,
   "metadata": {},
   "outputs": [
    {
     "name": "stdout",
     "output_type": "stream",
     "text": [
      "apple\n",
      "apple and banana\n",
      "apple, banana and grape\n",
      "apple, banana, grape and lemon\n"
     ]
    }
   ],
   "source": [
    "print(Flist(['apple']))\n",
    "print(Flist(['apple','banana']))\n",
    "print(Flist(['apple','banana','grape']))\n",
    "print(Flist(['apple','banana','grape','lemon']))"
   ]
  },
  {
   "cell_type": "markdown",
   "metadata": {},
   "source": [
    "문제 6"
   ]
  },
  {
   "cell_type": "code",
   "execution_count": 9,
   "metadata": {},
   "outputs": [
    {
     "name": "stdout",
     "output_type": "stream",
     "text": [
      "[37, 30, 38, 31, 46]\n"
     ]
    }
   ],
   "source": [
    "import random\n",
    "\n",
    "lottery= list(range(1,49))\n",
    "random.shuffle(lottery)\n",
    "print(lottery[0:5])"
   ]
  },
  {
   "cell_type": "markdown",
   "metadata": {},
   "source": [
    "문제 7"
   ]
  },
  {
   "cell_type": "code",
   "execution_count": 5,
   "metadata": {},
   "outputs": [
    {
     "name": "stdout",
     "output_type": "stream",
     "text": [
      "Hello, World!\n",
      "unique characters의 갯수 : 10\n"
     ]
    }
   ],
   "source": [
    "word = input()\n",
    "sWord = set(word)\n",
    "print('unique characters의 갯수 :',len(sWord))"
   ]
  },
  {
   "cell_type": "markdown",
   "metadata": {},
   "source": [
    "문제 8"
   ]
  },
  {
   "cell_type": "code",
   "execution_count": 4,
   "metadata": {},
   "outputs": [
    {
     "name": "stdout",
     "output_type": "stream",
     "text": [
      "live\n",
      "evil\n",
      "anagrams\n"
     ]
    }
   ],
   "source": [
    "wordOne = input()\n",
    "wordTwo = input()\n",
    "lWordOne = list(wordOne)\n",
    "lWordTwo = list(wordTwo)\n",
    "lWordOne.sort()\n",
    "lWordTwo.sort()\n",
    "m=0\n",
    "if len(lWordOne) == len(lWordTwo):\n",
    "    for i in range(len(lWordOne)):\n",
    "        if lWordOne[i] == lWordTwo[i]:\n",
    "            m +=1\n",
    "    if(m == len(lWordOne)):\n",
    "        print('anagrams')\n",
    "    else:\n",
    "        print('not anagrams')\n",
    "else:\n",
    "    print('not anagrams')\n"
   ]
  },
  {
   "cell_type": "code",
   "execution_count": null,
   "metadata": {},
   "outputs": [],
   "source": []
  }
 ],
 "metadata": {
  "kernelspec": {
   "display_name": "Python 3",
   "language": "python",
   "name": "python3"
  },
  "language_info": {
   "codemirror_mode": {
    "name": "ipython",
    "version": 3
   },
   "file_extension": ".py",
   "mimetype": "text/x-python",
   "name": "python",
   "nbconvert_exporter": "python",
   "pygments_lexer": "ipython3",
   "version": "3.6.5"
  }
 },
 "nbformat": 4,
 "nbformat_minor": 2
}
