{
 "cells": [
  {
   "cell_type": "markdown",
   "metadata": {},
   "source": [
    "# 1일차 과제"
   ]
  },
  {
   "cell_type": "markdown",
   "metadata": {},
   "source": [
    "1. 해보고 싶은 빅데이터 주제\n",
    " - 현재까지 살아온 데이터를 기반으로 회사에 얼만큼 뽑을 가치가 있는 것인지 분석 - 아르바이트를 했을 경우 어떤 아르바이트를 했을때 이 직무에 더 성과가 좋은지, 어떤 교육을 받았을시에 직무네 도움이 되었는 지 등등\n",
    "     ex) 아르바이트 경력, 교육 경력, 대학, 나이 등 모든 정보\n",
    " - 대한민국에서 유행에 따라 많은 창업이 일어나고 있습니다. 예를 들면 핫도그, 생과일 쥬스 전문점 등 여러가지 가게들이 많이 생겼다가 사라졌는데, 그런 데이터들을 바탕으로 유행이 될때 어떠한 아이템이 오래가고 어떠한 아이템이 금방 사라질지 분석을 해보면 재미있을 것 같습니다.\n",
    " \n",
    " \n",
    "2. 배우고 싶은 빅데이터 관련 과목\n",
    " - 빅데이터에 대해서 많은 것을 알고 오진 못해서 현재 커리큘럼을 보았는데 현재 커리큘럼도 좋다고 생각합니다.\n",
    " 하지만, 시간적 여유가 된다면, 인공지능 쪽도 배워보고 싶습니다.\n",
    " \n",
    " "
   ]
  },
  {
   "cell_type": "code",
   "execution_count": null,
   "metadata": {},
   "outputs": [],
   "source": []
  }
 ],
 "metadata": {
  "kernelspec": {
   "display_name": "Python 3",
   "language": "python",
   "name": "python3"
  },
  "language_info": {
   "codemirror_mode": {
    "name": "ipython",
    "version": 3
   },
   "file_extension": ".py",
   "mimetype": "text/x-python",
   "name": "python",
   "nbconvert_exporter": "python",
   "pygments_lexer": "ipython3",
   "version": "3.6.5"
  }
 },
 "nbformat": 4,
 "nbformat_minor": 2
}
