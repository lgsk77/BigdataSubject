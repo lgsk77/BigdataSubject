{
 "cells": [
  {
   "cell_type": "markdown",
   "metadata": {},
   "source": [
    "# 대기오염 데이터 sqllite로 저장하기"
   ]
  },
  {
   "cell_type": "code",
   "execution_count": 1,
   "metadata": {},
   "outputs": [],
   "source": [
    "import requests\n",
    "import sqlite3"
   ]
  },
  {
   "cell_type": "code",
   "execution_count": 2,
   "metadata": {},
   "outputs": [],
   "source": [
    "response = requests.get(\"http://openapi.airkorea.or.kr/openapi/services/rest/ArpltnInforInqireSvc/getMsrstnAcctoRltmMesureDnsty?serviceKey=my%2FIjOngiQiJlrbl5UBLBQmYFyJiwo9YHvbV57wCIWmJ0yo0AbMlA2v1Q24ihK0iCyiUG0vb2MZHaew3Db4tmg%3D%3D&numOfRows=10&pageSize=5&pageNo=1&startPage=1&stationName=%EC%A2%85%EB%A1%9C%EA%B5%AC&dataTerm=DAILY&ver=1.3\")"
   ]
  },
  {
   "cell_type": "code",
   "execution_count": 3,
   "metadata": {},
   "outputs": [],
   "source": [
    "from bs4 import BeautifulSoup"
   ]
  },
  {
   "cell_type": "code",
   "execution_count": 4,
   "metadata": {},
   "outputs": [],
   "source": [
    "data2 = BeautifulSoup(response.text,\"lxml\")\n",
    "items = data2.findAll(\"item\")"
   ]
  },
  {
   "cell_type": "code",
   "execution_count": 8,
   "metadata": {},
   "outputs": [],
   "source": [
    "import sqlite3"
   ]
  },
  {
   "cell_type": "code",
   "execution_count": 14,
   "metadata": {},
   "outputs": [],
   "source": [
    "conn = sqlite3.connect(\"air.db\")\n",
    "cur = conn.cursor()"
   ]
  },
  {
   "cell_type": "code",
   "execution_count": 16,
   "metadata": {},
   "outputs": [
    {
     "data": {
      "text/plain": [
       "<sqlite3.Cursor at 0x1c80704e960>"
      ]
     },
     "execution_count": 16,
     "metadata": {},
     "output_type": "execute_result"
    }
   ],
   "source": [
    "cur.executescript(\"\"\"\n",
    "    create table item(\n",
    "        datetime Date PRIMARY KEY,\n",
    "        mangname text,\n",
    "        so2value REAL,\n",
    "        covalue REAL,\n",
    "        o3value REAL,\n",
    "        no2value REAL,\n",
    "        pm10value INT,\n",
    "        pm10value24 INT,\n",
    "        pm25value INT,\n",
    "        pm25value24 INT,\n",
    "        khaivalue INT,\n",
    "        khaigrade INT,\n",
    "        so2grade INT,\n",
    "        cograde INT,\n",
    "        o3grade INT,\n",
    "        no2grade INT,\n",
    "        pm10grade INT,\n",
    "        pm25grade INT,\n",
    "        pm10grade1h INT,\n",
    "        pm25grade1h INT\n",
    "        );\n",
    "\"\"\")"
   ]
  },
  {
   "cell_type": "code",
   "execution_count": null,
   "metadata": {},
   "outputs": [],
   "source": [
    "for row in items:\n",
    "    print(row.datatime.text)\n",
    "    conn.execute(\"insert into item values (:datatime,:mangname,:so2value,:covalue,:o3value,:no2value,:pm10value,:pm10value24,:pm25value,:pm25value24,:khaivalue,:khaigrade,:so2grade,:cograde,:o3grade,:no2grade,:pm10grade,:pm25grade,:pm10grade1h,:pm25grade1h)\",{'datatime':row.datatime.text,'mangname':row.mangname.text,'so2value':row.so2value.text,'covalue':row.covalue.text,'o3value':row.o3value.text,'no2value':row.no2value.text,'pm10value':row.pm10value.text,'pm10value24':row.pm10value24.text,'pm25value':row.pm25value.text,'pm25value24':row.pm25value24.text,'khaivalue':row.khaivalue.text,'khaigrade':row.khaigrade.text,'so2grade':row.so2grade.text,'cograde':row.cograde.text,'o3grade':row.o3grade.text,'no2grade':row.no2grade.text,'pm10grade':row.pm10grade.text,'pm25grade':row.pm25grade.text,'pm10grade1h':row.pm10grade1h.text,'pm25grade1h':row.pm25grade1h.text})\n",
    "    #print(\"insert into item values (\"+row.datatime.text+\",\"+row.mangname.text+\",\"+row.so2value.text+\",\"+row.covalue.text+\",\"+row.o3value.text+\",\"+row.no2value.text+\",\"+row.pm10value.text+\",\"+row.pm10value24.text+\",\"+row.pm25value.text+\",\"+row.pm25value24.text+\",\"+row.khaivalue.text+\",\"+row.khaigrade.text+\",\"+row.so2grade.text+\",\"+row.cograde.text+\",\"+row.o3grade.text+\",\"+row.no2grade.text+\",\"+row.pm10grade.text+\",\"+row.pm25grade.text+\",\"+row.pm10grade1h.text+\",\"+row.pm25grade1h.text+\")\")"
   ]
  },
  {
   "cell_type": "code",
   "execution_count": 64,
   "metadata": {},
   "outputs": [],
   "source": [
    "conn.commit()"
   ]
  },
  {
   "cell_type": "code",
   "execution_count": 13,
   "metadata": {},
   "outputs": [],
   "source": [
    "conn.close()"
   ]
  },
  {
   "cell_type": "code",
   "execution_count": null,
   "metadata": {},
   "outputs": [],
   "source": []
  }
 ],
 "metadata": {
  "kernelspec": {
   "display_name": "Python 3",
   "language": "python",
   "name": "python3"
  },
  "language_info": {
   "codemirror_mode": {
    "name": "ipython",
    "version": 3
   },
   "file_extension": ".py",
   "mimetype": "text/x-python",
   "name": "python",
   "nbconvert_exporter": "python",
   "pygments_lexer": "ipython3",
   "version": "3.6.5"
  }
 },
 "nbformat": 4,
 "nbformat_minor": 2
}
