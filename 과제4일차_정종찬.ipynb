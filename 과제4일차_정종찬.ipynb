{
 "cells": [
  {
   "cell_type": "markdown",
   "metadata": {},
   "source": [
    "문제 1 Taxi Fare"
   ]
  },
  {
   "cell_type": "code",
   "execution_count": 47,
   "metadata": {},
   "outputs": [],
   "source": [
    "def total_fare(meter=0):\n",
    "    base_fare = 4.00\n",
    "    plus_fare = 0.25\n",
    "    fare = base_fare;\n",
    "    \n",
    "    if meter > base_fare/plus_fare *140:\n",
    "        fare += plus_fare * int((meter - base_fare/plus_fare*140) / 140)\n",
    "    return fare"
   ]
  },
  {
   "cell_type": "code",
   "execution_count": 50,
   "metadata": {},
   "outputs": [
    {
     "data": {
      "text/plain": [
       "5.25"
      ]
     },
     "execution_count": 50,
     "metadata": {},
     "output_type": "execute_result"
    }
   ],
   "source": [
    "total_fare(3000)"
   ]
  },
  {
   "cell_type": "markdown",
   "metadata": {},
   "source": [
    "문제 2 Median of Three Values"
   ]
  },
  {
   "cell_type": "code",
   "execution_count": 55,
   "metadata": {},
   "outputs": [],
   "source": [
    "def median(a,b,c):\n",
    "    med = 0\n",
    "    med_list = [a,b,c]\n",
    "    med_list.sort()\n",
    "    med = med_list[1]\n",
    "    return med"
   ]
  },
  {
   "cell_type": "code",
   "execution_count": 62,
   "metadata": {},
   "outputs": [
    {
     "name": "stdout",
     "output_type": "stream",
     "text": [
      "3\n",
      "4\n",
      "5\n",
      "median :  4\n"
     ]
    }
   ],
   "source": [
    "list =[]\n",
    "while(True):\n",
    "    num= input()\n",
    "    try:\n",
    "        list.append(int(num))\n",
    "    except:\n",
    "        print('숫자를 입력해주세요.')\n",
    "    else:\n",
    "        if len(list) == 3:\n",
    "            break\n",
    "\n",
    "print('median : ',median(list[0],list[1],list[2]))\n",
    "        "
   ]
  },
  {
   "cell_type": "markdown",
   "metadata": {},
   "source": [
    "문제 3 Convert an Integer to its Ordinal Number"
   ]
  },
  {
   "cell_type": "code",
   "execution_count": 81,
   "metadata": {},
   "outputs": [],
   "source": [
    "def ordinalNumber(num):\n",
    "    ordinalStr = {1:'First', 2:'Second', 3: 'Third', 4 : 'Forth' , 5: 'Fifth', 6: 'Sixth', 7 :'Seventh', 8:'Eighth', 9:'Ninth',10:'Tenth', 11: 'Eleventh',12:'Twelfth'}\n",
    "    if 0 < num <=12:\n",
    "        return ordinalStr[num]\n",
    "    else:\n",
    "        return None"
   ]
  },
  {
   "cell_type": "code",
   "execution_count": 94,
   "metadata": {},
   "outputs": [
    {
     "name": "stdout",
     "output_type": "stream",
     "text": [
      "1 의 서수 First\n",
      "2 의 서수 Second\n",
      "3 의 서수 Third\n",
      "4 의 서수 Forth\n",
      "5 의 서수 Fifth\n",
      "6 의 서수 Sixth\n",
      "7 의 서수 Seventh\n",
      "8 의 서수 Eighth\n",
      "9 의 서수 Ninth\n",
      "10 의 서수 Tenth\n",
      "11 의 서수 Eleventh\n",
      "12 의 서수 Twelfth\n",
      "13 의 서수 \n",
      "14 의 서수 \n"
     ]
    }
   ],
   "source": [
    "for i in range(1,15):\n",
    "    print(i,'의 서수',ordinalNumber(i))"
   ]
  },
  {
   "cell_type": "markdown",
   "metadata": {},
   "source": [
    "문제 4 Is it a Valid Triangle?"
   ]
  },
  {
   "cell_type": "code",
   "execution_count": 99,
   "metadata": {},
   "outputs": [],
   "source": [
    "def canTriangle(a,b,c):\n",
    "    can = True if a+b > c and a+c > b and b+c > a  else False\n",
    "    return can"
   ]
  },
  {
   "cell_type": "code",
   "execution_count": 105,
   "metadata": {},
   "outputs": [
    {
     "name": "stdout",
     "output_type": "stream",
     "text": [
      "10\n",
      "20\n",
      "15\n",
      "삼각형 가능\n"
     ]
    }
   ],
   "source": [
    "list =[]\n",
    "while(True):\n",
    "    num= input()\n",
    "    try:\n",
    "        list.append(int(num))\n",
    "    except:\n",
    "        print('숫자를 입력해주세요.')\n",
    "    else:\n",
    "        if len(list) == 3:\n",
    "            break\n",
    "\n",
    "if canTriangle(list[0],list[1],list[2]):\n",
    "    print(\"삼각형 가능\")\n",
    "else:\n",
    "    print('불가능')\n"
   ]
  },
  {
   "cell_type": "markdown",
   "metadata": {},
   "source": [
    "문제 5 Is a Number Prime?"
   ]
  },
  {
   "cell_type": "code",
   "execution_count": 166,
   "metadata": {},
   "outputs": [],
   "source": [
    "def Prime(num):\n",
    "    for i in range(2,num):\n",
    "        if num%i == 0:\n",
    "            return False\n",
    "    return True\n"
   ]
  },
  {
   "cell_type": "code",
   "execution_count": 171,
   "metadata": {},
   "outputs": [
    {
     "name": "stdout",
     "output_type": "stream",
     "text": [
      "102\n",
      "not Prime\n"
     ]
    }
   ],
   "source": [
    "while True:\n",
    "    num= input()\n",
    "    try:\n",
    "        if Prime(int(num)):\n",
    "            print('Prime num')\n",
    "        else:\n",
    "            print('not Prime')\n",
    "    except:\n",
    "        print('숫자를 입력해주세요')\n",
    "    else:\n",
    "        break"
   ]
  }
 ],
 "metadata": {
  "kernelspec": {
   "display_name": "Python 3",
   "language": "python",
   "name": "python3"
  },
  "language_info": {
   "codemirror_mode": {
    "name": "ipython",
    "version": 3
   },
   "file_extension": ".py",
   "mimetype": "text/x-python",
   "name": "python",
   "nbconvert_exporter": "python",
   "pygments_lexer": "ipython3",
   "version": "3.6.5"
  }
 },
 "nbformat": 4,
 "nbformat_minor": 2
}
