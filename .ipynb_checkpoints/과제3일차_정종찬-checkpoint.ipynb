{
 "cells": [
  {
   "cell_type": "markdown",
   "metadata": {},
   "source": [
    "#전공자반 정종찬"
   ]
  },
  {
   "cell_type": "markdown",
   "metadata": {},
   "source": [
    "문제 1 Average"
   ]
  },
  {
   "cell_type": "code",
   "execution_count": 1,
   "metadata": {},
   "outputs": [
    {
     "name": "stdout",
     "output_type": "stream",
     "text": [
      "0\n",
      "처음엔 0이 올 수 없습니다.\n",
      "0\n",
      "처음엔 0이 올 수 없습니다.\n",
      "2\n",
      "3\n",
      "4\n",
      "5\n",
      "1\n",
      "0\n",
      "3.0\n"
     ]
    }
   ],
   "source": [
    "num_list=[]\n",
    "while True :\n",
    "    num=input()\n",
    "    try:\n",
    "        if num_list.__len__() == 0 and int(num) == 0 :\n",
    "            print('처음엔 0이 올 수 없습니다.')\n",
    "        else: \n",
    "            if int(num) == 0:\n",
    "                break\n",
    "            num_list.append(int(num))\n",
    "    except:\n",
    "        print('숫자를 입력하세요')\n",
    "\n",
    "sum=0\n",
    "for i in range(len(num_list)):\n",
    "    sum += num_list[i]\n",
    "\n",
    "print(sum/len(num_list))"
   ]
  },
  {
   "cell_type": "markdown",
   "metadata": {},
   "source": [
    "문제 2 Temperature Conversion Table"
   ]
  },
  {
   "cell_type": "code",
   "execution_count": 11,
   "metadata": {
    "scrolled": true
   },
   "outputs": [
    {
     "name": "stdout",
     "output_type": "stream",
     "text": [
      "Celsius 0 Fahrenheit. 32.0\n",
      "Celsius 10 Fahrenheit. 50.0\n",
      "Celsius 20 Fahrenheit. 68.0\n",
      "Celsius 30 Fahrenheit. 86.0\n",
      "Celsius 40 Fahrenheit. 104.0\n",
      "Celsius 50 Fahrenheit. 122.0\n",
      "Celsius 60 Fahrenheit. 140.0\n",
      "Celsius 70 Fahrenheit. 158.0\n",
      "Celsius 80 Fahrenheit. 176.0\n",
      "Celsius 90 Fahrenheit. 194.0\n",
      "Celsius 100 Fahrenheit. 212.0\n"
     ]
    }
   ],
   "source": [
    "for i in range(0,11):\n",
    "    print('Celsius', i*10 , 'Fahrenheit.', 32 + 180/100*i*10)"
   ]
  },
  {
   "cell_type": "markdown",
   "metadata": {},
   "source": [
    "문제 3 Compute a Grade Point Average"
   ]
  },
  {
   "cell_type": "code",
   "execution_count": 2,
   "metadata": {},
   "outputs": [
    {
     "name": "stdout",
     "output_type": "stream",
     "text": [
      "A\n",
      "C+\n",
      "B\n",
      "\n"
     ]
    },
    {
     "data": {
      "text/plain": [
       "3.1"
      ]
     },
     "execution_count": 2,
     "metadata": {},
     "output_type": "execute_result"
    }
   ],
   "source": [
    "Grade = {'A+' : 4.0, 'A' : 4.0 , 'A-' : 3.7, 'B+' : 3.3, 'B': 3.0, 'B-':2.7, 'C+':2.3, 'C':2.0, 'C-':1.7, 'D+':1.3, 'D':1.0, 'F':0 }\n",
    "sum=0\n",
    "count=0\n",
    "for i in range(0,4):\n",
    "    g = input()\n",
    "    if g != '':\n",
    "        count +=1\n",
    "        sum +=Grade.get(g)\n",
    "        \n",
    "sum/count\n",
    "    "
   ]
  },
  {
   "cell_type": "markdown",
   "metadata": {},
   "source": [
    "문제 4 Admission Price"
   ]
  },
  {
   "cell_type": "code",
   "execution_count": 4,
   "metadata": {},
   "outputs": [
    {
     "name": "stdout",
     "output_type": "stream",
     "text": [
      "28\n",
      "19\n",
      "4\n",
      "14\n",
      "\n"
     ]
    },
    {
     "data": {
      "text/plain": [
       "'계산 요금은 : 83.00'"
      ]
     },
     "execution_count": 4,
     "metadata": {},
     "output_type": "execute_result"
    }
   ],
   "source": [
    "sum=0.00\n",
    "while True:\n",
    "    num = input()\n",
    "    try:\n",
    "        if num == '':\n",
    "            break\n",
    "        if 2 < int(num) <= 12:\n",
    "            sum += 14.00\n",
    "        elif 12 < int(num) < 65:\n",
    "            sum += 23.00\n",
    "        elif 65 <= int(num):\n",
    "            sum += 18.00\n",
    "    except:\n",
    "        print('숫자를 입력해주세요')\n",
    "        \n",
    "'계산 요금은 : %.2f'%sum\n"
   ]
  },
  {
   "cell_type": "markdown",
   "metadata": {},
   "source": [
    "문제 5 Is a String a Palindrome?"
   ]
  },
  {
   "cell_type": "code",
   "execution_count": 21,
   "metadata": {},
   "outputs": [
    {
     "name": "stdout",
     "output_type": "stream",
     "text": [
      "hannah\n",
      "this is palindrome\n"
     ]
    }
   ],
   "source": [
    "word = input()\n",
    "flag = False\n",
    "for i in range(int(len(word)/2)):\n",
    "    if word[i] == word[len(word)-i-1]:\n",
    "        flag = True\n",
    "    else:\n",
    "        flag = False\n",
    "        break\n",
    "\n",
    "if flag:\n",
    "    print('this is palindrome')\n",
    "else:\n",
    "    print('this is not palindrome')\n",
    "    "
   ]
  },
  {
   "cell_type": "markdown",
   "metadata": {},
   "source": [
    "문제 6 Multiplication Table"
   ]
  },
  {
   "cell_type": "code",
   "execution_count": 4,
   "metadata": {},
   "outputs": [
    {
     "name": "stdout",
     "output_type": "stream",
     "text": [
      "1 2 3 4 5 6 7 8 9 10 \n",
      "\n",
      "2 4 6 8 10 12 14 16 18 20 \n",
      "\n",
      "3 6 9 12 15 18 21 24 27 30 \n",
      "\n",
      "4 8 12 16 20 24 28 32 36 40 \n",
      "\n",
      "5 10 15 20 25 30 35 40 45 50 \n",
      "\n",
      "6 12 18 24 30 36 42 48 54 60 \n",
      "\n",
      "7 14 21 28 35 42 49 56 63 70 \n",
      "\n",
      "8 16 24 32 40 48 56 64 72 80 \n",
      "\n",
      "9 18 27 36 45 54 63 72 81 90 \n",
      "\n",
      "10 20 30 40 50 60 70 80 90 100 \n",
      "\n"
     ]
    }
   ],
   "source": [
    "First_list=[1,2,3,4,5,6,7,8,9,10]\n",
    "Second_list=[1,2,3,4,5,6,7,8,9,10]\n",
    "\n",
    "#for i in range(len(First_list)*len(Second_list)):\n",
    "for j in range(len(First_list)):\n",
    "    for k in range(len(Second_list)):\n",
    "        print(First_list[j]*Second_list[k], end = ' ')\n",
    "    print('\\n')\n",
    "            "
   ]
  },
  {
   "cell_type": "markdown",
   "metadata": {},
   "source": [
    "문제 7 Greatest Common Divisor"
   ]
  },
  {
   "cell_type": "code",
   "execution_count": 34,
   "metadata": {},
   "outputs": [
    {
     "name": "stdout",
     "output_type": "stream",
     "text": [
      "25\n",
      "100\n",
      "25\n",
      "[1, 5, 25]\n",
      "[1, 2, 4, 5, 10, 20, 25, 50, 100]\n"
     ]
    }
   ],
   "source": [
    "numOne = input()\n",
    "numTwo = input()\n",
    "\n",
    "numOneList = []\n",
    "numTwoList = []\n",
    "\n",
    "great = 0\n",
    "\n",
    "for i in range(1,int(numOne)+1):\n",
    "    if (int(numOne)/i).is_integer():\n",
    "        numOneList.append(i)\n",
    "for i in range(1,int(numTwo)+1):\n",
    "    if (int(numTwo)/i).is_integer():\n",
    "        numTwoList.append(i)\n",
    "\n",
    "for i in range(len(numOneList)):\n",
    "    for j in range(len(numTwoList)):\n",
    "        if numOneList[i] == numTwoList[j]:\n",
    "            great = numOneList[i]\n",
    "print(great)"
   ]
  },
  {
   "cell_type": "markdown",
   "metadata": {},
   "source": [
    "문제 8 Binary to Decimal"
   ]
  },
  {
   "cell_type": "code",
   "execution_count": 15,
   "metadata": {},
   "outputs": [
    {
     "name": "stdout",
     "output_type": "stream",
     "text": [
      "0b111\n"
     ]
    },
    {
     "data": {
      "text/plain": [
       "7"
      ]
     },
     "execution_count": 15,
     "metadata": {},
     "output_type": "execute_result"
    }
   ],
   "source": [
    "num=input()\n",
    "int(num,base=2)"
   ]
  },
  {
   "cell_type": "markdown",
   "metadata": {},
   "source": [
    "문제 9 Decimal to Binary"
   ]
  },
  {
   "cell_type": "code",
   "execution_count": 1,
   "metadata": {},
   "outputs": [
    {
     "name": "stdout",
     "output_type": "stream",
     "text": [
      "7\n"
     ]
    },
    {
     "data": {
      "text/plain": [
       "'0b111'"
      ]
     },
     "execution_count": 1,
     "metadata": {},
     "output_type": "execute_result"
    }
   ],
   "source": [
    "num=input()\n",
    "bin(int(num))"
   ]
  }
 ],
 "metadata": {
  "kernelspec": {
   "display_name": "Python 3",
   "language": "python",
   "name": "python3"
  },
  "language_info": {
   "codemirror_mode": {
    "name": "ipython",
    "version": 3
   },
   "file_extension": ".py",
   "mimetype": "text/x-python",
   "name": "python",
   "nbconvert_exporter": "python",
   "pygments_lexer": "ipython3",
   "version": "3.6.5"
  }
 },
 "nbformat": 4,
 "nbformat_minor": 2
}
