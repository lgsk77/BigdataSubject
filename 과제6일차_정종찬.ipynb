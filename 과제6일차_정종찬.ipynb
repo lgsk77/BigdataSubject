{
 "cells": [
  {
   "cell_type": "markdown",
   "metadata": {},
   "source": [
    "문제 1 Two Dice Simulation"
   ]
  },
  {
   "cell_type": "code",
   "execution_count": 46,
   "metadata": {},
   "outputs": [],
   "source": [
    "import random\n",
    "\n",
    "def DiceSum():\n",
    "    return random.randrange(1,7) + random.randrange(1,7)    \n",
    "    "
   ]
  },
  {
   "cell_type": "code",
   "execution_count": 86,
   "metadata": {},
   "outputs": [
    {
     "name": "stdout",
     "output_type": "stream",
     "text": [
      "Total simulated percent\n",
      "    0            '3.80'\n",
      "    1            '4.70'\n",
      "    2            '7.20'\n",
      "    3           '10.30'\n",
      "    4           '13.90'\n",
      "    5           '17.00'\n",
      "    6           '16.00'\n",
      "    7           '12.30'\n",
      "    8            '6.90'\n",
      "    9            '5.20'\n",
      "   10            '2.70'\n"
     ]
    }
   ],
   "source": [
    "sumList = [0,0,0,0,0,0,0,0,0,0,0]\n",
    "for i in range(1000):\n",
    "    num = DiceSum()\n",
    "    sumList[num-2] += 1\n",
    "print('Total'' simulated percent')\n",
    "for i in range(0,11):\n",
    "    print(repr(i).rjust(5),repr('%.2f'%(sumList[i]/10)).rjust(17))\n",
    "    "
   ]
  },
  {
   "cell_type": "markdown",
   "metadata": {},
   "source": [
    "문제 2 Text Messaging"
   ]
  },
  {
   "cell_type": "code",
   "execution_count": 155,
   "metadata": {},
   "outputs": [],
   "source": [
    "symbol = ['.,?!:','abc','def','ghi','jkl','mno','pqrs','tuv','wxyz',' ']"
   ]
  },
  {
   "cell_type": "code",
   "execution_count": 160,
   "metadata": {},
   "outputs": [
    {
     "name": "stdout",
     "output_type": "stream",
     "text": [
      "Hello, World!\n",
      "44335555556661110966677755531111"
     ]
    }
   ],
   "source": [
    "sentence = input()\n",
    "sentence = sentence.lower()\n",
    "\n",
    "for i in range(len(sentence)):\n",
    "    for j in range(10):\n",
    "        if sentence[i] in symbol[j]:\n",
    "            for k in range(len(symbol[j])):\n",
    "                print(j+1,end='')\n",
    "                if symbol2[j][k] == sentence[i]:\n",
    "                    break"
   ]
  },
  {
   "cell_type": "markdown",
   "metadata": {},
   "source": [
    "문제 3 Morse Code`"
   ]
  },
  {
   "cell_type": "code",
   "execution_count": 184,
   "metadata": {},
   "outputs": [
    {
     "name": "stdout",
     "output_type": "stream",
     "text": [
      "Hello, World!\n",
      "......-...-..---.-----.-..-..-.."
     ]
    }
   ],
   "source": [
    "morseCode = {'a':'.-','b':'-...','c':'-.-.','d':'-..','e':'.','f':'..-.','g':'--.','h':'....','i':'..','j':'.---','k':'-.-','l':'.-..','m':'--','n':'-.',\n",
    "             'o':'---','p':'.--.','q':'--.-','r':'.-.','s':'...','t':'-','u':'..-','v':'...-','w':'.--','x':'-..-','y':'-.--','z':'--..',\n",
    "             '0':'-----','1':'.----','2':'..---','3':'...--','4':'....-','5':'.....','6':'-....','7':'--...','8':'---..','9':'----.'}\n",
    "\n",
    "sentence = input()\n",
    "sentence = sentence.lower()\n",
    "\n",
    "for i in range(len(sentence)):\n",
    "    if sentence[i] in morseCode:\n",
    "        print(morseCode.get(sentence[i]),end='')"
   ]
  },
  {
   "cell_type": "markdown",
   "metadata": {},
   "source": [
    "문제 4 Postal Codes"
   ]
  },
  {
   "cell_type": "code",
   "execution_count": 201,
   "metadata": {},
   "outputs": [
    {
     "name": "stdout",
     "output_type": "stream",
     "text": [
      "A1\n",
      "Newfoundland\n",
      "urban\n"
     ]
    }
   ],
   "source": [
    "CpostalCode = {'A':'Newfoundland','B':'Nova Cotia','C':'Prince Edward Island','E':'New Brunswick','G':'Quebec','H':'Quebec','J':'Quebec',\n",
    "              'K':'Ontario','L':'Ontario','M':'Ontario','N':'Ontario','P':'Ontario','R':'Manitoba','S':'Saskatchewan','T':'British Columbia',\n",
    "              'X':'Nunavnt or Northwest Territories','Y':'Yukon'}\n",
    "\n",
    "postalCode = input()\n",
    "if CpostalCode.get(postalCode[0]) != None:\n",
    "    print(CpostalCode.get(postalCode[0]))\n",
    "    if postalCode[1] == '0':\n",
    "        print('rural')\n",
    "    else:\n",
    "        print('urban')\n",
    "else:\n",
    "    print('잘못된 코드입니다.')\n"
   ]
  }
 ],
 "metadata": {
  "kernelspec": {
   "display_name": "Python 3",
   "language": "python",
   "name": "python3"
  },
  "language_info": {
   "codemirror_mode": {
    "name": "ipython",
    "version": 3
   },
   "file_extension": ".py",
   "mimetype": "text/x-python",
   "name": "python",
   "nbconvert_exporter": "python",
   "pygments_lexer": "ipython3",
   "version": "3.6.5"
  }
 },
 "nbformat": 4,
 "nbformat_minor": 2
}
